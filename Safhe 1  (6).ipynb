{
 "cells": [
  {
   "cell_type": "markdown",
   "id": "685c7a53-650f-48ae-8b6c-95a8fda7365e",
   "metadata": {},
   "source": [
    "![نمایش سیگنال](https://raw.githubusercontent.com/sepidehrezvani/signal-s1/main/Capture_2025_02_27_17_01_52_74.png)\n",
    "\n",
    "# مشخصات زمانی و فرکانسی سیگنال‌ها و سیستم‌ها\n",
    "\n",
    "## 6-0 مقدمه  \n",
    "توصیف یک سیستم LTI بر حسب پاسخ فرکانسی جایگزینی برای توصیف حوزه زمان سیستم بر حسب کانولوشن است. در تحلیل سیستم‌های LTI غالباً استفاده از حوزه فرکانسی مناسب‌تر است زیرا معادلات دیفرانسیل و تفاضلی و عمل کانولوشن در حوزه فرکانس به عملیات جبری تبدیل می‌شوند. همچنین مفاهیمی چون فرکانس‌گزینی را در حوزه فرکانس می‌توان راحت تصور کرد. البته در طراحی سیستم معمولاً باید هم ملاحظات حوزه فرکانس منظور شود و هم ملاحظات حوزه زمان. \n",
    "\n",
    "## 6-1 نمایش اندازه - فاز تبدیل فوریه  \n",
    "تبدیل فوریه در حالت کلی مختلط است و همان‌طور که قبلاً گفته‌ایم می‌توان آن را با بخش‌های حقیقی و موهومی یا اندازه و فازش نشان داد. نمایش اندازه - فاز تبدیل فوریه پیوسته در زمان $$  X(j\\omega) $$   عبارت است از:\n",
    "\n",
    "$$ \n",
    "X(j\\omega) = |X(j\\omega)| e^{j\\angle X(j\\omega)} \n",
    "$$\n"
   ]
  }
 ],
 "metadata": {
  "kernelspec": {
   "display_name": "Python [conda env:base] *",
   "language": "python",
   "name": "conda-base-py"
  },
  "language_info": {
   "codemirror_mode": {
    "name": "ipython",
    "version": 3
   },
   "file_extension": ".py",
   "mimetype": "text/x-python",
   "name": "python",
   "nbconvert_exporter": "python",
   "pygments_lexer": "ipython3",
   "version": "3.12.7"
  }
 },
 "nbformat": 4,
 "nbformat_minor": 5
}
